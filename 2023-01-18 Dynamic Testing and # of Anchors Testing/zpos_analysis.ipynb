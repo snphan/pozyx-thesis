{
 "cells": [
  {
   "cell_type": "code",
   "execution_count": 1,
   "metadata": {},
   "outputs": [],
   "source": [
    "import matplotlib.pyplot as plt\n",
    "import pandas as pd\n",
    "import numpy as np\n",
    "import seaborn as sns\n",
    "from pathlib import Path\n",
    "import ipywidgets as widgets\n",
    "from IPython.display import display\n",
    "from utils import utils\n",
    "np.set_printoptions(suppress=True, formatter={'float_kind':'{:f}'.format})"
   ]
  },
  {
   "attachments": {},
   "cell_type": "markdown",
   "metadata": {},
   "source": [
    "# Visualization of ZPOS Data"
   ]
  },
  {
   "cell_type": "code",
   "execution_count": 2,
   "metadata": {},
   "outputs": [],
   "source": [
    "labels_dir = \"03_Labels\"\n",
    "data_dir = \"02_Pozyx_Positioning_Data\"\n",
    "NUM_POINTS = 150\n",
    "\n",
    "\n",
    "processed_trials = pd.DataFrame()\n",
    "for trial in range(5):\n",
    "    TYPE = \"ZPOS\"\n",
    "    ANCHORS = 4\n",
    "    TRIAL = trial+1\n",
    "\n",
    "    label_fn = f\"{TYPE}_A{ANCHORS}_{TRIAL}.txt\"\n",
    "    data_fn = f\"{TYPE}_A{ANCHORS}_{TRIAL}.csv\"\n",
    "\n",
    "    label_fp = Path('.').joinpath(labels_dir, TYPE, label_fn)\n",
    "    data_fp = Path('.').joinpath(data_dir, TYPE, data_fn)\n",
    "\n",
    "    labels = utils.extract_time_labels(label_fp)\n",
    "\n",
    "    data = pd.read_csv(data_fp)\n",
    "    data.columns = ['Timestamp', 'POS_X', 'POS_Y', 'POS_Z', 'Heading', 'Pitch', 'Roll', 'ACC_X', 'ACC_Y', 'ACC_Z']\n",
    "    data = data.set_index('Timestamp')\n",
    "\n",
    "    # Segment the data into only the standing still portions.\n",
    "    moving_periods = [[float(start['Timestamp']), float(end['Timestamp'])] for (start, end) in zip(labels[1::2], labels[2::2])]\n",
    "    moving_periods.append([float(labels[-1]['Timestamp']), float(labels[-1]['Timestamp'])+120])\n",
    "    standing_periods = [[float(start['Timestamp']), float(end['Timestamp'])] for (start, end) in zip(labels[0::2], labels[1::2])]\n",
    "\n",
    "    ##################### CLEANING THE DATA ########################## \n",
    "    cleaned_data = (data\n",
    "                    .pipe(utils.remove_periods, moving_periods)\n",
    "                    .pipe(utils.interp1d_periods, standing_periods, num_points=NUM_POINTS)\n",
    "                    .reset_index(drop=True)\n",
    "                )\n",
    "    ##################################################################\n",
    "\n",
    "\n",
    "    # To normalize in time, drop the index and fix the indexing (make start overlap with 10sec end)\n",
    "    index = 0\n",
    "    drop_index_labels = []\n",
    "    for ind, _ in enumerate(labels[0::2]):\n",
    "        drop_index_labels.append({'Timestamp': index, 'Label': labels[ind*2]['Label']})\n",
    "        index += NUM_POINTS\n",
    "        drop_index_labels.append({'Timestamp': index, 'Label': labels[ind*2+1]['Label']})\n",
    "\n",
    "\n",
    "    utils.plot_pozyx_data_with_timings(cleaned_data, ['POS_X', 'POS_Y', 'POS_Z'], drop_index_labels)\n",
    "    utils.plot_pozyx_data_with_timings(cleaned_data, ['Heading'], drop_index_labels, ylim=(0,360))\n",
    "    processed_trials = pd.concat([processed_trials, cleaned_data], axis=0)\n",
    "\n",
    "# Means and Standard deviations for ensemble averages\n",
    "means = processed_trials.groupby(processed_trials.index).mean()\n",
    "stds = processed_trials.groupby(processed_trials.index).std()\n",
    "\n",
    "# Position\n",
    "ax = utils.plot_pozyx_data_with_timings(means, ['POS_X', 'POS_Y', 'POS_Z'], drop_index_labels)\n",
    "ax.fill_between(means.index, means['POS_X'] + stds['POS_X'], means['POS_X'] - stds['POS_X'], alpha=0.5)\n",
    "ax.fill_between(means.index, means['POS_Y'] + stds['POS_Y'], means['POS_Y'] - stds['POS_Y'], alpha=0.5)\n",
    "ax.fill_between(means.index, means['POS_Z'] + stds['POS_Z'], means['POS_Z'] - stds['POS_Z'], alpha=0.5)\n",
    "ax.set_title(f\"Position Variation between 5 trials with {ANCHORS} Anchors\")\n",
    "\n",
    "# Heading\n",
    "ax = utils.plot_pozyx_data_with_timings(means, ['Heading'], drop_index_labels, ylim=(0, 360))\n",
    "ax.fill_between(means.index, means['Heading'] + stds['Heading'], means['Heading'] - stds['Heading'], alpha=0.5)\n",
    "ax.set_title(f\"Heading Variation between 5 trials with {ANCHORS} Anchors\")"
   ]
  },
  {
   "cell_type": "markdown",
   "metadata": {},
   "source": []
  }
 ],
 "metadata": {
  "kernelspec": {
   "display_name": "pozyx",
   "language": "python",
   "name": "python3"
  },
  "language_info": {
   "codemirror_mode": {
    "name": "ipython",
    "version": 3
   },
   "file_extension": ".py",
   "mimetype": "text/x-python",
   "name": "python",
   "nbconvert_exporter": "python",
   "pygments_lexer": "ipython3",
   "version": "3.10.9"
  },
  "orig_nbformat": 4,
  "vscode": {
   "interpreter": {
    "hash": "1143abebd9493488475ecf28f0b32955405d6b73061448dbc5b3fdcd7ad97493"
   }
  }
 },
 "nbformat": 4,
 "nbformat_minor": 2
}
